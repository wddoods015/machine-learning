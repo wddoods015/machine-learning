{
 "cells": [
  {
   "cell_type": "markdown",
   "id": "d7aea5e4",
   "metadata": {},
   "source": [
    "# iris - 다중회귀(Multiple Regression)"
   ]
  },
  {
   "cell_type": "code",
   "execution_count": 15,
   "id": "d4af5d0b",
   "metadata": {},
   "outputs": [],
   "source": [
    "from sklearn.datasets import load_iris\n",
    "from sklearn.tree import DecisionTreeClassifier\n",
    "from sklearn.model_selection import train_test_split"
   ]
  },
  {
   "cell_type": "code",
   "execution_count": 16,
   "id": "175711a7",
   "metadata": {},
   "outputs": [
    {
     "name": "stdout",
     "output_type": "stream",
     "text": [
      "['setosa' 'versicolor' 'virginica']\n"
     ]
    }
   ],
   "source": [
    "# iris dataset 로드하기\n",
    "iris = load_iris()\n",
    "\n",
    "iris.keys()\n",
    "\n",
    "# DESCR는 해당 데이터셋의 데이터 정보\n",
    "\n",
    "print(iris['target_names'])"
   ]
  },
  {
   "cell_type": "code",
   "execution_count": 17,
   "id": "3a9741d2",
   "metadata": {},
   "outputs": [
    {
     "data": {
      "text/html": [
       "<div>\n",
       "<style scoped>\n",
       "    .dataframe tbody tr th:only-of-type {\n",
       "        vertical-align: middle;\n",
       "    }\n",
       "\n",
       "    .dataframe tbody tr th {\n",
       "        vertical-align: top;\n",
       "    }\n",
       "\n",
       "    .dataframe thead th {\n",
       "        text-align: right;\n",
       "    }\n",
       "</style>\n",
       "<table border=\"1\" class=\"dataframe\">\n",
       "  <thead>\n",
       "    <tr style=\"text-align: right;\">\n",
       "      <th></th>\n",
       "      <th>sepal length (cm)</th>\n",
       "      <th>sepal width (cm)</th>\n",
       "      <th>petal length (cm)</th>\n",
       "      <th>petal width (cm)</th>\n",
       "      <th>species</th>\n",
       "    </tr>\n",
       "  </thead>\n",
       "  <tbody>\n",
       "    <tr>\n",
       "      <th>0</th>\n",
       "      <td>5.1</td>\n",
       "      <td>3.5</td>\n",
       "      <td>1.4</td>\n",
       "      <td>0.2</td>\n",
       "      <td>0</td>\n",
       "    </tr>\n",
       "    <tr>\n",
       "      <th>1</th>\n",
       "      <td>4.9</td>\n",
       "      <td>3.0</td>\n",
       "      <td>1.4</td>\n",
       "      <td>0.2</td>\n",
       "      <td>0</td>\n",
       "    </tr>\n",
       "    <tr>\n",
       "      <th>2</th>\n",
       "      <td>4.7</td>\n",
       "      <td>3.2</td>\n",
       "      <td>1.3</td>\n",
       "      <td>0.2</td>\n",
       "      <td>0</td>\n",
       "    </tr>\n",
       "    <tr>\n",
       "      <th>3</th>\n",
       "      <td>4.6</td>\n",
       "      <td>3.1</td>\n",
       "      <td>1.5</td>\n",
       "      <td>0.2</td>\n",
       "      <td>0</td>\n",
       "    </tr>\n",
       "    <tr>\n",
       "      <th>4</th>\n",
       "      <td>5.0</td>\n",
       "      <td>3.6</td>\n",
       "      <td>1.4</td>\n",
       "      <td>0.2</td>\n",
       "      <td>0</td>\n",
       "    </tr>\n",
       "    <tr>\n",
       "      <th>5</th>\n",
       "      <td>5.4</td>\n",
       "      <td>3.9</td>\n",
       "      <td>1.7</td>\n",
       "      <td>0.4</td>\n",
       "      <td>0</td>\n",
       "    </tr>\n",
       "    <tr>\n",
       "      <th>6</th>\n",
       "      <td>4.6</td>\n",
       "      <td>3.4</td>\n",
       "      <td>1.4</td>\n",
       "      <td>0.3</td>\n",
       "      <td>0</td>\n",
       "    </tr>\n",
       "    <tr>\n",
       "      <th>7</th>\n",
       "      <td>5.0</td>\n",
       "      <td>3.4</td>\n",
       "      <td>1.5</td>\n",
       "      <td>0.2</td>\n",
       "      <td>0</td>\n",
       "    </tr>\n",
       "    <tr>\n",
       "      <th>8</th>\n",
       "      <td>4.4</td>\n",
       "      <td>2.9</td>\n",
       "      <td>1.4</td>\n",
       "      <td>0.2</td>\n",
       "      <td>0</td>\n",
       "    </tr>\n",
       "    <tr>\n",
       "      <th>9</th>\n",
       "      <td>4.9</td>\n",
       "      <td>3.1</td>\n",
       "      <td>1.5</td>\n",
       "      <td>0.1</td>\n",
       "      <td>0</td>\n",
       "    </tr>\n",
       "  </tbody>\n",
       "</table>\n",
       "</div>"
      ],
      "text/plain": [
       "   sepal length (cm)  sepal width (cm)  petal length (cm)  petal width (cm)  \\\n",
       "0                5.1               3.5                1.4               0.2   \n",
       "1                4.9               3.0                1.4               0.2   \n",
       "2                4.7               3.2                1.3               0.2   \n",
       "3                4.6               3.1                1.5               0.2   \n",
       "4                5.0               3.6                1.4               0.2   \n",
       "5                5.4               3.9                1.7               0.4   \n",
       "6                4.6               3.4                1.4               0.3   \n",
       "7                5.0               3.4                1.5               0.2   \n",
       "8                4.4               2.9                1.4               0.2   \n",
       "9                4.9               3.1                1.5               0.1   \n",
       "\n",
       "   species  \n",
       "0        0  \n",
       "1        0  \n",
       "2        0  \n",
       "3        0  \n",
       "4        0  \n",
       "5        0  \n",
       "6        0  \n",
       "7        0  \n",
       "8        0  \n",
       "9        0  "
      ]
     },
     "execution_count": 17,
     "metadata": {},
     "output_type": "execute_result"
    }
   ],
   "source": [
    "# data를 df로 변환하여 'label'컬럼을 만들어 traget으로 지정하고 확인.\n",
    "import pandas as pd \n",
    "iris_df = pd.DataFrame(data=iris.data, columns=iris.feature_names)\n",
    "iris_df['species'] = iris.target\n",
    "iris_df.head(10)"
   ]
  },
  {
   "cell_type": "code",
   "execution_count": 24,
   "id": "79c793db",
   "metadata": {},
   "outputs": [],
   "source": [
    "# 훈련데이터와 테스트 데이터 분할\n",
    "X_train, X_test, y_train, y_test = train_test_split(iris.data, iris.target, test_size=0.2, random_state=42)"
   ]
  },
  {
   "cell_type": "code",
   "execution_count": 25,
   "id": "c8901901",
   "metadata": {},
   "outputs": [
    {
     "name": "stdout",
     "output_type": "stream",
     "text": [
      "0.9254199044989622\n",
      "0.9468960016420045\n"
     ]
    }
   ],
   "source": [
    "# 다중 선형회귀 적용\n",
    "from sklearn.linear_model import LinearRegression\n",
    "\n",
    "lr = LinearRegression()\n",
    "lr.fit(X_train, y_train)\n",
    "\n",
    "print(lr.score(X_train, y_train))\n",
    "print(lr.score(X_test, y_test))\n",
    "# 테스트 점수가 더 높은 과소적합..?"
   ]
  },
  {
   "cell_type": "markdown",
   "id": "d73dcbc2",
   "metadata": {},
   "source": [
    "### 사이킷런의 PolynomialFeatures 클래스 활용하기"
   ]
  },
  {
   "cell_type": "code",
   "execution_count": 26,
   "id": "3a8054c3",
   "metadata": {},
   "outputs": [
    {
     "data": {
      "text/plain": [
       "array([[4.600e+00, 3.600e+00, 1.000e+00, 2.000e-01, 2.116e+01, 1.656e+01,\n",
       "        4.600e+00, 9.200e-01, 1.296e+01, 3.600e+00, 7.200e-01, 1.000e+00,\n",
       "        2.000e-01, 4.000e-02],\n",
       "       [5.700e+00, 4.400e+00, 1.500e+00, 4.000e-01, 3.249e+01, 2.508e+01,\n",
       "        8.550e+00, 2.280e+00, 1.936e+01, 6.600e+00, 1.760e+00, 2.250e+00,\n",
       "        6.000e-01, 1.600e-01],\n",
       "       [6.700e+00, 3.100e+00, 4.400e+00, 1.400e+00, 4.489e+01, 2.077e+01,\n",
       "        2.948e+01, 9.380e+00, 9.610e+00, 1.364e+01, 4.340e+00, 1.936e+01,\n",
       "        6.160e+00, 1.960e+00],\n",
       "       [4.800e+00, 3.400e+00, 1.600e+00, 2.000e-01, 2.304e+01, 1.632e+01,\n",
       "        7.680e+00, 9.600e-01, 1.156e+01, 5.440e+00, 6.800e-01, 2.560e+00,\n",
       "        3.200e-01, 4.000e-02],\n",
       "       [4.400e+00, 3.200e+00, 1.300e+00, 2.000e-01, 1.936e+01, 1.408e+01,\n",
       "        5.720e+00, 8.800e-01, 1.024e+01, 4.160e+00, 6.400e-01, 1.690e+00,\n",
       "        2.600e-01, 4.000e-02]])"
      ]
     },
     "execution_count": 26,
     "metadata": {},
     "output_type": "execute_result"
    }
   ],
   "source": [
    "# 'X_train'데이터를 PolynomialFeatures 적용하여 'train_poly'라는 특성데이터 생성.\n",
    "from sklearn.preprocessing import PolynomialFeatures\n",
    "\n",
    "# 훈련데이터셋 'X_train'에 변환기 적용\n",
    "poly = PolynomialFeatures(include_bias=False) # 계수(1) 추가 안 함\n",
    "poly.fit(X_train)\n",
    "train_poly = poly.transform(X_train)\n",
    "train_poly[:5] # 추가된 특성 확인"
   ]
  },
  {
   "cell_type": "code",
   "execution_count": 27,
   "id": "75d98ec3",
   "metadata": {},
   "outputs": [
    {
     "data": {
      "text/plain": [
       "array(['x0', 'x1', 'x2', 'x3', 'x0^2', 'x0 x1', 'x0 x2', 'x0 x3', 'x1^2',\n",
       "       'x1 x2', 'x1 x3', 'x2^2', 'x2 x3', 'x3^2'], dtype=object)"
      ]
     },
     "execution_count": 27,
     "metadata": {},
     "output_type": "execute_result"
    }
   ],
   "source": [
    "# sklearn 라이브러리에서 사용되는 메서드로, 변환기가 생성한 피처 이름을 반환.\n",
    "poly.get_feature_names_out()"
   ]
  },
  {
   "cell_type": "code",
   "execution_count": 28,
   "id": "b9582713",
   "metadata": {},
   "outputs": [
    {
     "data": {
      "text/plain": [
       "array([[6.1, 2.8, 4.7, 1.2],\n",
       "       [5.7, 3.8, 1.7, 0.3],\n",
       "       [7.7, 2.6, 6.9, 2.3],\n",
       "       [6. , 2.9, 4.5, 1.5],\n",
       "       [6.8, 2.8, 4.8, 1.4]])"
      ]
     },
     "execution_count": 28,
     "metadata": {},
     "output_type": "execute_result"
    }
   ],
   "source": [
    "test_poly = poly.transform(X_test)\n",
    "X_test[:5]"
   ]
  },
  {
   "cell_type": "code",
   "execution_count": 29,
   "id": "445413cc",
   "metadata": {},
   "outputs": [
    {
     "data": {
      "text/plain": [
       "array([[ 6.1 ,  2.8 ,  4.7 ,  1.2 , 37.21, 17.08, 28.67,  7.32,  7.84,\n",
       "        13.16,  3.36, 22.09,  5.64,  1.44],\n",
       "       [ 5.7 ,  3.8 ,  1.7 ,  0.3 , 32.49, 21.66,  9.69,  1.71, 14.44,\n",
       "         6.46,  1.14,  2.89,  0.51,  0.09],\n",
       "       [ 7.7 ,  2.6 ,  6.9 ,  2.3 , 59.29, 20.02, 53.13, 17.71,  6.76,\n",
       "        17.94,  5.98, 47.61, 15.87,  5.29],\n",
       "       [ 6.  ,  2.9 ,  4.5 ,  1.5 , 36.  , 17.4 , 27.  ,  9.  ,  8.41,\n",
       "        13.05,  4.35, 20.25,  6.75,  2.25],\n",
       "       [ 6.8 ,  2.8 ,  4.8 ,  1.4 , 46.24, 19.04, 32.64,  9.52,  7.84,\n",
       "        13.44,  3.92, 23.04,  6.72,  1.96]])"
      ]
     },
     "execution_count": 29,
     "metadata": {},
     "output_type": "execute_result"
    }
   ],
   "source": [
    "# X_test와 비교\n",
    "test_poly[:5]"
   ]
  },
  {
   "cell_type": "markdown",
   "id": "913e45d1",
   "metadata": {},
   "source": [
    "#### 다중회귀모델 훈련"
   ]
  },
  {
   "cell_type": "code",
   "execution_count": 35,
   "id": "9d6782a8",
   "metadata": {},
   "outputs": [
    {
     "data": {
      "text/plain": [
       "LinearRegression()"
      ]
     },
     "execution_count": 35,
     "metadata": {},
     "output_type": "execute_result"
    }
   ],
   "source": [
    "# sklearn의 클래스, 선형회귀 import\n",
    "from sklearn.linear_model import LinearRegression\n",
    "# 모델 생성\n",
    "lr = LinearRegression()\n",
    "# 모델 학습\n",
    "lr.fit(train_poly, y_train)"
   ]
  },
  {
   "cell_type": "code",
   "execution_count": 36,
   "id": "f59fadd2",
   "metadata": {},
   "outputs": [
    {
     "name": "stdout",
     "output_type": "stream",
     "text": [
      "0.9521205991019994\n",
      "0.9275633158732431\n"
     ]
    }
   ],
   "source": [
    "print(lr.score(train_poly, y_train))\n",
    "print(lr.score(test_poly, y_test))"
   ]
  },
  {
   "cell_type": "markdown",
   "id": "f68070b8",
   "metadata": {},
   "source": [
    "##### 결과\n",
    "- 점수가 높게 나왔음\n",
    "- 특성이 늘어나면 선형회귀의 예측 결과가 약간 높아짐"
   ]
  }
 ],
 "metadata": {
  "kernelspec": {
   "display_name": "Python 3 (ipykernel)",
   "language": "python",
   "name": "python3"
  },
  "language_info": {
   "codemirror_mode": {
    "name": "ipython",
    "version": 3
   },
   "file_extension": ".py",
   "mimetype": "text/x-python",
   "name": "python",
   "nbconvert_exporter": "python",
   "pygments_lexer": "ipython3",
   "version": "3.9.12"
  }
 },
 "nbformat": 4,
 "nbformat_minor": 5
}
